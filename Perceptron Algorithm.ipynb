{
 "cells": [
  {
   "cell_type": "markdown",
   "metadata": {},
   "source": [
    "# Abbaspour - 610398147 - HW3 - Perceptron Algorithm\n",
    "# Problem\n",
    "We're going to set a hyperplane to classify 3-dimensional data points through two labels '1' and '-1'.\n",
    "First some methods from practical libraries for data science field imported and dataset opened as a Pandas data frame.\n",
    "Data points with their related label are put in 'dataPoints'list as tuples and a 4-dimensional random hyperplane generated for the first naive classifying.\n",
    "data points have an extra element equals 1 to be multiplied by bias. "
   ]
  },
  {
   "cell_type": "code",
   "execution_count": null,
   "metadata": {},
   "outputs": [],
   "source": [
    "from numpy import arange, array, inner, meshgrid, random\n",
    "from pandas import read_csv\n",
    "from time import time\n",
    "from matplotlib.pyplot import figure, ion, savefig, show, title\n",
    "from mpl_toolkits.mplot3d import Axes3D\n",
    "from warnings import filterwarnings\n",
    "filterwarnings(\"ignore\")\n",
    "\n",
    "# Setting datapoints and list of some chosen learning rate values.\n",
    "df, learningRates = read_csv(\"Q1data.csv\"), [0.0000019, 0.00001, 0.123, 0.4352678, 0.5, 0.75, 0.88, 0.9999]\n",
    "X, Y, Z = df.iloc[:, 0], df.iloc[:, 1], df.iloc[:, 2]\n",
    "numberPoints, numberDimensions = df.shape\n",
    "# dataPoints = [([x, y, z], label)...], W = uniformed array with 4 dimensions.\n",
    "dataPoints, Labels, W = [(array([1] + [df.iloc[Index][Dimension] for Dimension in range(numberDimensions - 1)]), df.iloc[Index][3]) for Index in range(numberPoints)], df.iloc[:, 3], random.rand(numberDimensions,)"
   ]
  },
  {
   "cell_type": "markdown",
   "metadata": {},
   "source": [
    "# Perceptron Algorithm\n",
    "Perceptron Algorithm for classification is defined by means of sign function and a while loop for checking data points whether they're missclassified or not one by one."
   ]
  },
  {
   "cell_type": "code",
   "execution_count": null,
   "metadata": {},
   "outputs": [],
   "source": [
    "def Sign(Number):\n",
    "    # Retrurning the sign of input number.\n",
    "    return (-1) ** int((Number < 0) == True)\n",
    "\n",
    "def Perceptron(dataPoints, W, learningRate):\n",
    "    optimalW, Index = W, 0\n",
    "    while Index < numberPoints:\n",
    "        x, Label = dataPoints[Index]\n",
    "        if Sign(inner(optimalW, x)) == Label:\n",
    "            Index += 1\n",
    "        else:\n",
    "            optimalW, Index = optimalW + learningRate * Label * x, 0\n",
    "    return optimalW"
   ]
  },
  {
   "cell_type": "markdown",
   "metadata": {},
   "source": [
    "# Raw Data Points\n",
    "Let's see data points without any classifiers in a 3D view."
   ]
  },
  {
   "cell_type": "code",
   "execution_count": null,
   "metadata": {},
   "outputs": [],
   "source": [
    "# Plotting raw unclassified data points.\n",
    "ax = figure(figsize = (10, 10)).add_subplot(111, projection = '3d') \n",
    "ax.scatter(X, Y, Z, c = Labels, label = Labels)\n",
    "ax.set_xlabel(\"$x$\")\n",
    "ax.set_ylabel(\"$y$\")\n",
    "ax.set_zlabel(\"$z$\")\n",
    "savefig(\"Raw Dataset\")\n",
    "show(block = False)"
   ]
  },
  {
   "cell_type": "markdown",
   "metadata": {},
   "source": [
    "# Main\n",
    "Contructed Perceptron Algorithm used for different pre-set learning rates in global 'learningRates' list in ascending order.\n",
    "According to results, for same data points and prior hyperplane, the lower value of learning, the more it is near 0 and brings the process more convergence time.(For chosen values for learning rate, the value 0.75 crashes the pattern a bit; in the other words the algorithm takes little time more to find the optimal hyperplane than the time the value of learning rate is 0.5)"
   ]
  },
  {
   "cell_type": "code",
   "execution_count": null,
   "metadata": {},
   "outputs": [],
   "source": [
    "# main()\n",
    "for Index, learningRate in enumerate(learningRates):\n",
    "    START = time()\n",
    "    optimalW = Perceptron(dataPoints, W, learningRate)\n",
    "    STOP = time()\n",
    "    print(f\"\\n\\nFor learning rate {learningRate}\\nOptimal W is found: W = {optimalW}\\n in {STOP - START} UTC time unit\\nand the fact that it does classify all data points correctly is {all(Sign(inner(optimalW, dataPoint[0])) == dataPoint[1] for dataPoint in dataPoints)}.\")\n",
    "\n",
    "    # Make data & projection of decision boundary (hyperplane)\n",
    "    XX, YY = meshgrid(arange(-800, 800), arange(-300, 200))\n",
    "    ax, Title = figure(figsize = (10, 10)).add_subplot(111, projection = \"3d\"), f\"{Index + 1}th Perceptron Classifier\"\n",
    "    ion()\n",
    "    ax.scatter(X, Y, Z, c = Labels)\n",
    "    ax.plot_surface(XX, YY, -1 / optimalW[3] * (optimalW[1] * XX + optimalW[2] * YY + optimalW[0]), alpha = 0.8)\n",
    "    title(Title)\n",
    "    ax.set_xlabel(\"$x$\")\n",
    "    ax.set_ylabel(\"$y$\")\n",
    "    ax.set_zlabel(\"$z$\")\n",
    "    savefig(Title)\n",
    "    show()"
   ]
  },
  {
   "cell_type": "markdown",
   "metadata": {},
   "source": [
    "# Challenges\n",
    "Tiny challange was to implement Perceptron algorithm."
   ]
  }
 ],
 "metadata": {
  "language_info": {
   "name": "python"
  }
 },
 "nbformat": 4,
 "nbformat_minor": 2
}
